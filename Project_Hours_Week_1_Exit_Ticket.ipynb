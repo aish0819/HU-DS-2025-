{
  "nbformat": 4,
  "nbformat_minor": 0,
  "metadata": {
    "colab": {
      "provenance": [],
      "authorship_tag": "ABX9TyMCZk3WEV5S6hmvTqSaBafg",
      "include_colab_link": true
    },
    "kernelspec": {
      "name": "python3",
      "display_name": "Python 3"
    },
    "language_info": {
      "name": "python"
    }
  },
  "cells": [
    {
      "cell_type": "markdown",
      "metadata": {
        "id": "view-in-github",
        "colab_type": "text"
      },
      "source": [
        "<a href=\"https://colab.research.google.com/github/aish0819/HU-DS-2025-/blob/main/Project_Hours_Week_1_Exit_Ticket.ipynb\" target=\"_parent\"><img src=\"https://colab.research.google.com/assets/colab-badge.svg\" alt=\"Open In Colab\"/></a>"
      ]
    },
    {
      "cell_type": "code",
      "execution_count": null,
      "metadata": {
        "id": "4RoQAN9q1zOY"
      },
      "outputs": [],
      "source": [
        "b = 5"
      ]
    },
    {
      "cell_type": "markdown",
      "source": [
        "creating a variable and assigning a value.\n",
        "\n",
        "\n"
      ],
      "metadata": {
        "id": "-ol_oJzC13op"
      }
    },
    {
      "cell_type": "code",
      "source": [
        "a=3\n",
        "b=\"hello\"\n",
        "\n",
        "print(type(a))\n",
        "print(type(b))"
      ],
      "metadata": {
        "colab": {
          "base_uri": "https://localhost:8080/"
        },
        "id": "0cuFSFFf3m3B",
        "outputId": "5025c2ee-5587-4c83-a765-54611a1cd617"
      },
      "execution_count": null,
      "outputs": [
        {
          "output_type": "stream",
          "name": "stdout",
          "text": [
            "<class 'int'>\n",
            "<class 'str'>\n"
          ]
        }
      ]
    },
    {
      "cell_type": "markdown",
      "source": [
        "checking data type of variables"
      ],
      "metadata": {
        "id": "6DVPdwgc3jMa"
      }
    },
    {
      "cell_type": "code",
      "source": [
        "print(\"I Love Python\")\n",
        "print(\"keep coding!\")"
      ],
      "metadata": {
        "colab": {
          "base_uri": "https://localhost:8080/"
        },
        "id": "n6eQcxxB39_v",
        "outputId": "0c16cd72-0944-4d03-d25d-7c320af424b2"
      },
      "execution_count": null,
      "outputs": [
        {
          "output_type": "stream",
          "name": "stdout",
          "text": [
            "I Love Python\n",
            "keep coding!\n"
          ]
        }
      ]
    },
    {
      "cell_type": "markdown",
      "source": [
        "using print statements"
      ],
      "metadata": {
        "id": "CqViZaMt3-tT"
      }
    },
    {
      "cell_type": "code",
      "source": [
        "age = int(input(\"How old are you? \"))\n",
        "color = input(\"What is your favorite color? \")\n",
        "\n",
        "print(\"You are \", age, \" and your favorite color is \", color)"
      ],
      "metadata": {
        "id": "A01DkkNZtadB"
      },
      "execution_count": null,
      "outputs": []
    },
    {
      "cell_type": "markdown",
      "source": [
        "input statements to prompt user for info"
      ],
      "metadata": {
        "id": "4LzFAx87tbJR"
      }
    },
    {
      "cell_type": "code",
      "source": [
        "value = input(\"Enter your name: \")\n",
        "print(\"Your name has \", len(value), \"letters\")"
      ],
      "metadata": {
        "colab": {
          "base_uri": "https://localhost:8080/"
        },
        "id": "8ElRMalkuFzU",
        "outputId": "e18a1994-5fde-4bb8-e371-c22e8eb3f954"
      },
      "execution_count": null,
      "outputs": [
        {
          "output_type": "stream",
          "name": "stdout",
          "text": [
            "Enter your name: aishwarya\n",
            "Your name has  9 letters\n"
          ]
        }
      ]
    },
    {
      "cell_type": "markdown",
      "source": [
        "use len method"
      ],
      "metadata": {
        "id": "nLBux3NSuGnz"
      }
    },
    {
      "cell_type": "code",
      "source": [
        "text = input(\"Enter any word: \")\n",
        "print(text.lower())\n",
        "print(text.upper())\n",
        "print(text.islower())\n",
        "print(text.isupper())\n",
        "print(text.capitalize())\n",
        "print(text.title())"
      ],
      "metadata": {
        "id": "Q50GCQh-wdfk"
      },
      "execution_count": null,
      "outputs": []
    },
    {
      "cell_type": "code",
      "source": [
        "string methods"
      ],
      "metadata": {
        "id": "E0yx-_VEwahO"
      },
      "execution_count": null,
      "outputs": []
    },
    {
      "cell_type": "code",
      "source": [
        "x=5\n",
        "y=3\n",
        "\n",
        "print(x>y)\n",
        "print(x=y)\n",
        "print(x<y)"
      ],
      "metadata": {
        "id": "O_VBhO3Bxbsy"
      },
      "execution_count": null,
      "outputs": []
    },
    {
      "cell_type": "markdown",
      "source": [
        "boolean values"
      ],
      "metadata": {
        "id": "niQUdqDOxzLX"
      }
    },
    {
      "cell_type": "code",
      "source": [
        "a= \"5\"\n",
        "b = int(a)\n",
        "print(b)\n",
        "\n",
        "c=float(a)\n",
        "print(c)"
      ],
      "metadata": {
        "id": "HlNNj9KZyP09",
        "colab": {
          "base_uri": "https://localhost:8080/"
        },
        "outputId": "0801199a-2680-4076-d144-67d5e178b9dd"
      },
      "execution_count": null,
      "outputs": [
        {
          "output_type": "stream",
          "name": "stdout",
          "text": [
            "5\n",
            "5.0\n"
          ]
        }
      ]
    },
    {
      "cell_type": "markdown",
      "source": [
        "data type conversions"
      ],
      "metadata": {
        "id": "LdOSLppqyQ-t"
      }
    }
  ]
}